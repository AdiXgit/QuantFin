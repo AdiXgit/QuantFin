{
 "cells": [
  {
   "cell_type": "code",
   "execution_count": 23,
   "metadata": {},
   "outputs": [],
   "source": [
    "import yfinance as yf\n",
    "import pandas as pd\n",
    "import numpy as np\n",
    "# from qiskit.primitives import sampler    -> Will be Depreciated\n",
    "\n",
    "from qiskit_optimization import QuadraticProgram\n",
    "from qiskit_optimization.converters import QuadraticProgramToQubo\n",
    "from qiskit_algorithms import QAOA, NumPyMinimumEigensolver\n",
    "from qiskit_algorithms.optimizers import COBYLA\n",
    "from qiskit_algorithms.utils import algorithm_globals\n",
    "from qiskit_aer.primitives import Sampler  \n",
    "from qiskit_aer import Aer\n",
    "from qiskit_aer import backends\n"
   ]
  },
  {
   "cell_type": "code",
   "execution_count": 24,
   "metadata": {},
   "outputs": [
    {
     "name": "stderr",
     "output_type": "stream",
     "text": [
      "[*********************100%***********************]  7 of 7 completed"
     ]
    },
    {
     "name": "stdout",
     "output_type": "stream",
     "text": [
      "Ticker      BAJFINANCE.NS  HDFCBANK.NS      INFY.NS      ITC.NS  RELIANCE.NS  \\\n",
      "Date                                                                           \n",
      "2021-01-01    5204.157227  1368.017578  1148.968262  179.427795   898.454590   \n",
      "2021-01-04    5141.127441  1359.329712  1174.309448  179.050232   899.968994   \n",
      "2021-01-05    5045.326172  1369.601440  1179.368530  177.414124   888.780701   \n",
      "2021-01-06    4957.902832  1363.697632  1168.703613  172.337936   865.341736   \n",
      "2021-01-07    5007.873047  1359.569580  1150.518066  170.156448   863.940369   \n",
      "\n",
      "Ticker      TATAMOTORS.NS       TCS.NS  \n",
      "Date                                    \n",
      "2021-01-01     185.348572  2713.368408  \n",
      "2021-01-04     190.118927  2816.407959  \n",
      "2021-01-05     192.007202  2866.028809  \n",
      "2021-01-06     194.193604  2827.573730  \n",
      "2021-01-07     195.535294  2810.245850  \n"
     ]
    },
    {
     "name": "stderr",
     "output_type": "stream",
     "text": [
      "\n"
     ]
    }
   ],
   "source": [
    "#yf = yahoo finance\n",
    "import yfinance as yf\n",
    "\n",
    "#(NSE India stocks with .NS suffix)\n",
    "stocks = [\"TCS.NS\", \"INFY.NS\", \"HDFCBANK.NS\", \"RELIANCE.NS\", \"ITC.NS\", \"TATAMOTORS.NS\", \"BAJFINANCE.NS\"]\n",
    "\n",
    "# Download historical stock data for 3 years\n",
    "df = yf.download(stocks, start=\"2021-01-01\", end=\"2024-01-01\")\n",
    "\n",
    "#WE ARE USING ONLY THE CLOSE PRICE OF THE STOCKS\n",
    "df = df['Close']\n",
    "print(df.head())"
   ]
  },
  {
   "cell_type": "code",
   "execution_count": 25,
   "metadata": {},
   "outputs": [],
   "source": [
    "\"\"\"we are calculating the daily return and the covariance matrix , the matrix is imp cause it tells us if our portfolio is well balanced or not\n",
    "if the covariance is high then the stocks are not well balanced and if the covariance is low then the stocks are well balanced\"\"\"\n",
    "\n",
    "returns = df.pct_change()\n",
    "mean_returns = returns.mean()\n",
    "cov_mat = returns.cov()\n"
   ]
  },
  {
   "cell_type": "code",
   "execution_count": 26,
   "metadata": {},
   "outputs": [
    {
     "name": "stdout",
     "output_type": "stream",
     "text": [
      "[[ 2.12947677e-03 -1.19680321e-04 -8.72512558e-05 -7.81370277e-05\n",
      "  -1.11089948e-04 -1.68183298e-04 -7.11395395e-05]\n",
      " [-1.19680321e-04  1.14790728e-03 -6.88003117e-05 -4.48002164e-05\n",
      "  -7.81412631e-05 -1.13221232e-04 -5.53348666e-05]\n",
      " [-8.72512558e-05 -6.88003117e-05  1.28335483e-03 -4.03061746e-05\n",
      "  -7.01201670e-05 -1.03995038e-04 -1.38913391e-04]\n",
      " [-7.81370277e-05 -4.48002164e-05 -4.03061746e-05  1.01683189e-04\n",
      "  -6.32902560e-05 -1.06738913e-04 -2.94256613e-05]\n",
      " [-1.11089948e-04 -7.81412631e-05 -7.01201670e-05 -6.32902560e-05\n",
      "   1.09924996e-03 -1.34463086e-04 -5.77973778e-05]\n",
      " [-1.68183298e-04 -1.13221232e-04 -1.03995038e-04 -1.06738913e-04\n",
      "  -1.34463086e-04  2.29030269e-03 -9.63109095e-05]\n",
      " [-7.11395395e-05 -5.53348666e-05 -1.38913391e-04 -2.94256613e-05\n",
      "  -5.77973778e-05 -9.63109095e-05  8.11314521e-04]]\n"
     ]
    },
    {
     "name": "stderr",
     "output_type": "stream",
     "text": [
      "C:\\Users\\kumar\\AppData\\Local\\Temp\\ipykernel_14980\\1286306283.py:6: FutureWarning: Series.__getitem__ treating keys as positions is deprecated. In a future version, integer keys will always be treated as labels (consistent with DataFrame behavior). To access a value by position, use `ser.iloc[pos]`\n",
      "  Q[i,i] = -mean_returns[i]+penalty*cov_mat.iloc[i,i]\n"
     ]
    }
   ],
   "source": [
    "#building the qubo matrix\n",
    "assets = len(stocks)\n",
    "Q = np.zeros([assets, assets]) #init the qubo matrix\n",
    "penalty  = np.mean(abs(mean_returns)) / np.mean(abs(cov_mat.values))\n",
    "for i in range(assets):\n",
    "    Q[i,i] = -mean_returns[i]+penalty*cov_mat.iloc[i,i]\n",
    "    for j in range(i+1, assets):\n",
    "        Q[i,j] = -cov_mat.iloc[i,j]\n",
    "        Q[j,i] = -cov_mat.iloc[i,j]\n",
    "\n",
    "print(Q)   \n"
   ]
  },
  {
   "cell_type": "code",
   "execution_count": 27,
   "metadata": {},
   "outputs": [
    {
     "name": "stdout",
     "output_type": "stream",
     "text": [
      "fval=0.0, x0=0.0, x1=0.0, x2=0.0, x3=0.0, x4=0.0, x5=0.0, x6=0.0, status=SUCCESS\n"
     ]
    }
   ],
   "source": [
    "from qiskit_optimization.algorithms import MinimumEigenOptimizer\n",
    "from qiskit.primitives import BackendSampler\n",
    "\n",
    "qubo = QuadraticProgram()\n",
    "for i in range(assets):\n",
    "    qubo.binary_var(f\"x{i}\")\n",
    "\n",
    "linear_terms = {f\"x{i}\": Q[i, i] for i in range(assets)}\n",
    "quadratic_terms = {(f\"x{i}\", f\"x{j}\"): Q[i, j] for i in range(assets) for j in range(i + 1, assets)}\n",
    "qubo.minimize(linear=linear_terms, quadratic=quadratic_terms)\n",
    "\n",
    "# backend = Aer.get_backend('qasm_simulator')\n",
    "sampler = Sampler() \n",
    "qaoa = QAOA(sampler=sampler, optimizer=COBYLA(), reps=1)\n",
    "\n",
    "# Convert QUBO to Ising model (handled internally by MinimumEigenOptimizer)\n",
    "meo = MinimumEigenOptimizer(qaoa)\n",
    "result = meo.solve(qubo)  \n",
    "\n",
    "print(result)"
   ]
  },
  {
   "cell_type": "code",
   "execution_count": 28,
   "metadata": {},
   "outputs": [],
   "source": [
    "# import qiskit_optimization.applications\n",
    "# help(qiskit_optimization.applications)"
   ]
  }
 ],
 "metadata": {
  "kernelspec": {
   "display_name": "Python 3",
   "language": "python",
   "name": "python3"
  },
  "language_info": {
   "codemirror_mode": {
    "name": "ipython",
    "version": 3
   },
   "file_extension": ".py",
   "mimetype": "text/x-python",
   "name": "python",
   "nbconvert_exporter": "python",
   "pygments_lexer": "ipython3",
   "version": "3.12.6"
  }
 },
 "nbformat": 4,
 "nbformat_minor": 2
}
