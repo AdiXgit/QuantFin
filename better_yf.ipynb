{
 "cells": [
  {
   "cell_type": "code",
   "execution_count": 10,
   "metadata": {},
   "outputs": [],
   "source": [
    "import yfinance as yf\n",
    "import pandas as pd\n",
    "import numpy as np\n",
    "from qiskit.primitives import sampler\n",
    "\n",
    "from qiskit_optimization import QuadraticProgram\n",
    "from qiskit_optimization.converters import QuadraticProgramToQubo\n",
    "from qiskit_algorithms import QAOA, NumPyMinimumEigensolver\n",
    "from qiskit_algorithms.optimizers import COBYLA\n",
    "from qiskit_algorithms.utils import algorithm_globals\n",
    "from qiskit.primitives import Sampler  #Import Sampler\n",
    "from qiskit_aer import Aer\n",
    "from qiskit_aer import backends\n"
   ]
  },
  {
   "cell_type": "code",
   "execution_count": 11,
   "metadata": {},
   "outputs": [
    {
     "name": "stderr",
     "output_type": "stream",
     "text": [
      "[*********************100%***********************]  7 of 7 completed"
     ]
    },
    {
     "name": "stdout",
     "output_type": "stream",
     "text": [
      "Ticker      BAJFINANCE.NS  HDFCBANK.NS      INFY.NS      ITC.NS  RELIANCE.NS  \\\n",
      "Date                                                                           \n",
      "2021-01-01    5204.156738  1368.017578  1148.968384  179.427795   898.454651   \n",
      "2021-01-04    5141.127930  1359.329712  1174.309448  179.050247   899.968994   \n",
      "2021-01-05    5045.326172  1369.601440  1179.368652  177.414108   888.780701   \n",
      "2021-01-06    4957.902832  1363.697632  1168.703491  172.337936   865.341736   \n",
      "2021-01-07    5007.873047  1359.569702  1150.517944  170.156464   863.940430   \n",
      "\n",
      "Ticker      TATAMOTORS.NS       TCS.NS  \n",
      "Date                                    \n",
      "2021-01-01     185.348557  2713.367920  \n",
      "2021-01-04     190.118942  2816.408447  \n",
      "2021-01-05     192.007202  2866.028564  \n",
      "2021-01-06     194.193619  2827.573486  \n",
      "2021-01-07     195.535294  2810.246094  \n"
     ]
    },
    {
     "name": "stderr",
     "output_type": "stream",
     "text": [
      "\n"
     ]
    }
   ],
   "source": [
    "#yf = yahoo finance\n",
    "import yfinance as yf\n",
    "\n",
    "#(NSE India stocks with .NS suffix)\n",
    "stocks = [\"TCS.NS\", \"INFY.NS\", \"HDFCBANK.NS\", \"RELIANCE.NS\", \"ITC.NS\", \"TATAMOTORS.NS\", \"BAJFINANCE.NS\"]\n",
    "\n",
    "# Download historical stock data for 3 years\n",
    "df = yf.download(stocks, start=\"2021-01-01\", end=\"2024-01-01\")\n",
    "\n",
    "#WE ARE USING ONLY THE CLOSE PRICE OF THE STOCKS\n",
    "df = df['Close']\n",
    "print(df.head())"
   ]
  },
  {
   "cell_type": "code",
   "execution_count": 12,
   "metadata": {},
   "outputs": [],
   "source": [
    "\"\"\"we are calculating the daily return and the covariance matrix , the matrix is imp cause it tells us if our portfolio is well balanced or not\n",
    "if the covariance is high then the stocks are not well balanced and if the covariance is low then the stocks are well balanced\"\"\"\n",
    "\n",
    "returns = df.pct_change()\n",
    "mean_returns = returns.mean()\n",
    "cov_mat = returns.cov()\n"
   ]
  },
  {
   "cell_type": "code",
   "execution_count": 13,
   "metadata": {},
   "outputs": [
    {
     "name": "stdout",
     "output_type": "stream",
     "text": [
      "[[ 2.12947633e-03 -1.19680371e-04 -8.72513241e-05 -7.81369972e-05\n",
      "  -1.11089894e-04 -1.68183378e-04 -7.11393964e-05]\n",
      " [-1.19680371e-04  1.14790747e-03 -6.88003309e-05 -4.48003523e-05\n",
      "  -7.81412148e-05 -1.13221246e-04 -5.53349197e-05]\n",
      " [-8.72513241e-05 -6.88003309e-05  1.28335561e-03 -4.03060620e-05\n",
      "  -7.01201913e-05 -1.03995047e-04 -1.38913389e-04]\n",
      " [-7.81369972e-05 -4.48003523e-05 -4.03060620e-05  1.01683981e-04\n",
      "  -6.32902163e-05 -1.06738990e-04 -2.94255788e-05]\n",
      " [-1.11089894e-04 -7.81412148e-05 -7.01201913e-05 -6.32902163e-05\n",
      "   1.09925003e-03 -1.34463145e-04 -5.77972428e-05]\n",
      " [-1.68183378e-04 -1.13221246e-04 -1.03995047e-04 -1.06738990e-04\n",
      "  -1.34463145e-04  2.29030313e-03 -9.63110672e-05]\n",
      " [-7.11393964e-05 -5.53349197e-05 -1.38913389e-04 -2.94255788e-05\n",
      "  -5.77972428e-05 -9.63110672e-05  8.11314365e-04]]\n"
     ]
    },
    {
     "name": "stderr",
     "output_type": "stream",
     "text": [
      "C:\\Users\\kumar\\AppData\\Local\\Temp\\ipykernel_11664\\1286306283.py:6: FutureWarning: Series.__getitem__ treating keys as positions is deprecated. In a future version, integer keys will always be treated as labels (consistent with DataFrame behavior). To access a value by position, use `ser.iloc[pos]`\n",
      "  Q[i,i] = -mean_returns[i]+penalty*cov_mat.iloc[i,i]\n"
     ]
    }
   ],
   "source": [
    "#building the qubo matrix\n",
    "assets = len(stocks)\n",
    "Q = np.zeros([assets, assets]) #init the qubo matrix\n",
    "penalty  = np.mean(abs(mean_returns)) / np.mean(abs(cov_mat.values))\n",
    "for i in range(assets):\n",
    "    Q[i,i] = -mean_returns[i]+penalty*cov_mat.iloc[i,i]\n",
    "    for j in range(i+1, assets):\n",
    "        Q[i,j] = -cov_mat.iloc[i,j]\n",
    "        Q[j,i] = -cov_mat.iloc[i,j]\n",
    "\n",
    "print(Q)   \n"
   ]
  },
  {
   "cell_type": "code",
   "execution_count": null,
   "metadata": {},
   "outputs": [],
   "source": [
    "#building QAOA to solve qubo matrix\n",
    "qubo = QuadraticProgram()\n",
    "for i in range(assets):\n",
    "    qubo.binary_var(f\"x{i}\")\n",
    "\n",
    "#need to convert qubo to optimisation problem\n",
    "linear_terms =  {f\"x{i}\": Q[i, i] for i in range(assets)}\n",
    "quadratic_terms = {(f\"x{i}\", f\"x{j}\"): Q[i, j] for i in range(assets) for j in range(i + 1, assets)}\n",
    "qubo.minimize(linear=linear_terms, quadratic=quadratic_terms)\n",
    "\n",
    "#lets use QAOA to solve\n",
    "backend = Aer.get_backend('qasm_simulator')\n",
    "qaoa = QAOA(sampler=backend,optimizer=COBYLA(), reps=1)\n",
    "result = qaoa."
   ]
  },
  {
   "cell_type": "code",
   "execution_count": 28,
   "metadata": {},
   "outputs": [
    {
     "name": "stdout",
     "output_type": "stream",
     "text": [
      "Help on QAOA in module qiskit_algorithms.minimum_eigensolvers.qaoa object:\n",
      "\n",
      "class QAOA(qiskit_algorithms.minimum_eigensolvers.sampling_vqe.SamplingVQE)\n",
      " |  QAOA(sampler: 'BaseSampler', optimizer: 'Optimizer | Minimizer', *, reps: 'int' = 1, initial_state: 'QuantumCircuit | None' = None, mixer: 'QuantumCircuit | BaseOperator' = None, initial_point: 'np.ndarray | None' = None, aggregation: 'float | Callable[[list[float]], float] | None' = None, callback: 'Callable[[int, np.ndarray, float, dict[str, Any]], None] | None' = None) -> 'None'\n",
      " |\n",
      " |  The Quantum Approximate Optimization Algorithm (QAOA).\n",
      " |\n",
      " |  QAOA is a well-known algorithm for finding approximate solutions to combinatorial-optimization\n",
      " |  problems [1].\n",
      " |\n",
      " |  The QAOA implementation directly extends :class:`.SamplingVQE` and inherits its optimization\n",
      " |  structure. However, unlike VQE, which can be configured with arbitrary ansatzes, QAOA uses its\n",
      " |  own fine-tuned ansatz, which comprises :math:`p` parameterized global :math:`x` rotations and\n",
      " |  :math:`p` different parameterizations of the problem hamiltonian. QAOA is thus principally\n",
      " |  configured  by the single integer parameter, ``reps``, which dictates the depth of the ansatz,\n",
      " |  and thus affects the approximation quality.\n",
      " |\n",
      " |  An optional array of :math:`2p` parameter values, as the :attr:`initial_point`, may be provided\n",
      " |  as the starting :math:`\\beta` and :math:`\\gamma` parameters for the QAOA ansatz [1].\n",
      " |\n",
      " |  An operator or a parameterized quantum circuit may optionally also be provided as a custom\n",
      " |  :attr:`mixer` Hamiltonian. This allows in the case of quantum annealing [2] and QAOA [3], to run\n",
      " |  constrained optimization problems where the mixer constrains the evolution to a feasible\n",
      " |  subspace of the full Hilbert space.\n",
      " |\n",
      " |  The following attributes can be set via the initializer but can also be read and updated once\n",
      " |  the QAOA object has been constructed.\n",
      " |\n",
      " |  Attributes:\n",
      " |      sampler (BaseSampler): The sampler primitive to sample the circuits.\n",
      " |      optimizer (Optimizer | Minimizer): A classical optimizer to find the minimum energy. This\n",
      " |          can either be an :class:`.Optimizer` or a callable implementing the\n",
      " |          :class:`.Minimizer` protocol.\n",
      " |      reps (int): The integer parameter :math:`p`. Has a minimum valid value of 1.\n",
      " |      initial_state: An optional initial state to prepend the QAOA circuit with.\n",
      " |      mixer (QuantumCircuit | BaseOperator): The mixer Hamiltonian to evolve with or\n",
      " |          a custom quantum circuit. Allows support of optimizations in constrained subspaces [2,\n",
      " |          3] as well as warm-starting the optimization [4].\n",
      " |      aggregation (float | Callable[[list[float]], float] | None): A float or callable to specify\n",
      " |          how the objective function evaluated on the basis states should be aggregated. If a\n",
      " |          float, this specifies the :math:`\\alpha \\in [0,1]` parameter for a CVaR expectation\n",
      " |          value.\n",
      " |      callback (Callable[[int, np.ndarray, float, dict[str, Any]], None] | None): A callback\n",
      " |          that can access the intermediate data at each optimization step. These data are: the\n",
      " |          evaluation count, the optimizer parameters for the ansatz, the evaluated value, and\n",
      " |          the metadata dictionary.\n",
      " |\n",
      " |  References:\n",
      " |      [1]: Farhi, E., Goldstone, J., Gutmann, S., \"A Quantum Approximate Optimization Algorithm\"\n",
      " |          `arXiv:1411.4028 <https://arxiv.org/abs/1411.4028>`__\n",
      " |      [2]: Hen, I., Spedalieri, F. M.,  \"Quantum Annealing for Constrained Optimization\"\n",
      " |          `PhysRevApplied.5.034007 <https://doi.org/10.1103/PhysRevApplied.5.034007>`__\n",
      " |      [3]: Hadfield, S. et al, \"From the Quantum Approximate Optimization Algorithm to a Quantum\n",
      " |          Alternating Operator Ansatz\" `arXiv:1709.03489 <https://arxiv.org/abs/1709.03489>`__\n",
      " |      [4]: Egger, D. J., Marecek, J., Woerner, S., \"Warm-starting quantum optimization\"\n",
      " |          `arXiv: 2009.10095 <https://arxiv.org/abs/2009.10095>`__\n",
      " |\n",
      " |  Method resolution order:\n",
      " |      QAOA\n",
      " |      qiskit_algorithms.minimum_eigensolvers.sampling_vqe.SamplingVQE\n",
      " |      qiskit_algorithms.variational_algorithm.VariationalAlgorithm\n",
      " |      qiskit_algorithms.minimum_eigensolvers.sampling_mes.SamplingMinimumEigensolver\n",
      " |      abc.ABC\n",
      " |      builtins.object\n",
      " |\n",
      " |  Methods defined here:\n",
      " |\n",
      " |  __init__(self, sampler: 'BaseSampler', optimizer: 'Optimizer | Minimizer', *, reps: 'int' = 1, initial_state: 'QuantumCircuit | None' = None, mixer: 'QuantumCircuit | BaseOperator' = None, initial_point: 'np.ndarray | None' = None, aggregation: 'float | Callable[[list[float]], float] | None' = None, callback: 'Callable[[int, np.ndarray, float, dict[str, Any]], None] | None' = None) -> 'None'\n",
      " |      Args:\n",
      " |          sampler: The sampler primitive to sample the circuits.\n",
      " |          optimizer: A classical optimizer to find the minimum energy. This can either be\n",
      " |              an :class:`.Optimizer` or a callable implementing the :class:`.Minimizer`\n",
      " |              protocol.\n",
      " |          reps: The integer parameter :math:`p`. Has a minimum valid value of 1.\n",
      " |          initial_state: An optional initial state to prepend the QAOA circuit with.\n",
      " |          mixer: The mixer Hamiltonian to evolve with or a custom quantum circuit. Allows support\n",
      " |              of optimizations in constrained subspaces [2, 3] as well as warm-starting the\n",
      " |              optimization [4].\n",
      " |          initial_point: An optional initial point (i.e. initial parameter values) for the\n",
      " |              optimizer. The length of the initial point must match the number of :attr:`ansatz`\n",
      " |              parameters. If ``None``, a random point will be generated within certain parameter\n",
      " |              bounds. ``QAOA`` will look to the ansatz for these bounds. If the ansatz does not\n",
      " |              specify bounds, bounds of :math:`-2\\pi`, :math:`2\\pi` will be used.\n",
      " |          aggregation: A float or callable to specify how the objective function evaluated on the\n",
      " |              basis states should be aggregated. If a float, this specifies the :math:`\\alpha \\in\n",
      " |              [0,1]` parameter for a CVaR expectation value.\n",
      " |          callback: A callback that can access the intermediate data at each optimization step.\n",
      " |              These data are: the evaluation count, the optimizer parameters for the ansatz, the\n",
      " |              evaluated value, the metadata dictionary.\n",
      " |\n",
      " |  ----------------------------------------------------------------------\n",
      " |  Data and other attributes defined here:\n",
      " |\n",
      " |  __abstractmethods__ = frozenset()\n",
      " |\n",
      " |  ----------------------------------------------------------------------\n",
      " |  Methods inherited from qiskit_algorithms.minimum_eigensolvers.sampling_vqe.SamplingVQE:\n",
      " |\n",
      " |  compute_minimum_eigenvalue(self, operator: 'BaseOperator', aux_operators: 'ListOrDict[BaseOperator] | None' = None) -> 'SamplingMinimumEigensolverResult'\n",
      " |      Compute the minimum eigenvalue of a diagonal operator.\n",
      " |\n",
      " |      Args:\n",
      " |          operator: Diagonal qubit operator.\n",
      " |          aux_operators: Optional list of auxiliary operators to be evaluated with the\n",
      " |              final state.\n",
      " |\n",
      " |      Returns:\n",
      " |          A :class:`~.SamplingMinimumEigensolverResult` containing the optimization result.\n",
      " |\n",
      " |  ----------------------------------------------------------------------\n",
      " |  Class methods inherited from qiskit_algorithms.minimum_eigensolvers.sampling_vqe.SamplingVQE:\n",
      " |\n",
      " |  supports_aux_operators() -> 'bool'\n",
      " |      Whether computing the expectation value of auxiliary operators is supported.\n",
      " |\n",
      " |      If the minimum eigensolver computes an eigenstate of the main operator then it\n",
      " |      can compute the expectation value of the aux_operators for that state. Otherwise\n",
      " |      they will be ignored.\n",
      " |\n",
      " |      Returns:\n",
      " |          True if aux_operator expectations can be evaluated, False otherwise\n",
      " |\n",
      " |  ----------------------------------------------------------------------\n",
      " |  Data descriptors inherited from qiskit_algorithms.minimum_eigensolvers.sampling_vqe.SamplingVQE:\n",
      " |\n",
      " |  initial_point\n",
      " |      Return the initial point.\n",
      " |\n",
      " |  ----------------------------------------------------------------------\n",
      " |  Data descriptors inherited from qiskit_algorithms.variational_algorithm.VariationalAlgorithm:\n",
      " |\n",
      " |  __dict__\n",
      " |      dictionary for instance variables\n",
      " |\n",
      " |  __weakref__\n",
      " |      list of weak references to the object\n",
      "\n"
     ]
    }
   ],
   "source": [
    "help(qaoa)"
   ]
  }
 ],
 "metadata": {
  "kernelspec": {
   "display_name": "Python 3",
   "language": "python",
   "name": "python3"
  },
  "language_info": {
   "codemirror_mode": {
    "name": "ipython",
    "version": 3
   },
   "file_extension": ".py",
   "mimetype": "text/x-python",
   "name": "python",
   "nbconvert_exporter": "python",
   "pygments_lexer": "ipython3",
   "version": "3.12.6"
  }
 },
 "nbformat": 4,
 "nbformat_minor": 2
}
