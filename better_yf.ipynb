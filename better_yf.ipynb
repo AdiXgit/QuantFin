{
 "cells": [
  {
   "cell_type": "code",
   "execution_count": 19,
   "metadata": {},
   "outputs": [],
   "source": [
    "import yfinance as yf\n",
    "import pandas as pd\n",
    "import numpy as np\n",
    "from qiskit.primitives import sampler\n",
    "\n",
    "from qiskit_optimization import QuadraticProgram\n",
    "from qiskit_optimization.converters import QuadraticProgramToQubo\n",
    "from qiskit_algorithms import QAOA, NumPyMinimumEigensolver\n",
    "from qiskit_algorithms.optimizers import COBYLA\n",
    "from qiskit_algorithms.utils import algorithm_globals\n",
    "from qiskit.primitives import Sampler  #Import Sampler\n",
    "from qiskit_aer import AerSimulator\n",
    "from qiskit_aer import backends\n"
   ]
  },
  {
   "cell_type": "code",
   "execution_count": null,
   "metadata": {},
   "outputs": [
    {
     "name": "stderr",
     "output_type": "stream",
     "text": [
      "[*********************100%***********************]  7 of 7 completed"
     ]
    },
    {
     "name": "stdout",
     "output_type": "stream",
     "text": [
      "Ticker      BAJFINANCE.NS  HDFCBANK.NS      INFY.NS      ITC.NS  RELIANCE.NS  \\\n",
      "Date                                                                           \n",
      "2021-01-01    5204.156738  1368.017578  1148.968262  181.050323   895.606201   \n",
      "2021-01-04    5141.127441  1359.329712  1174.309448  180.669312   897.115784   \n",
      "2021-01-05    5045.326172  1369.601440  1179.368774  179.018387   885.962891   \n",
      "2021-01-06    4957.902832  1363.697632  1168.703613  173.896347   862.598267   \n",
      "2021-01-07    5007.872559  1359.569702  1150.517944  171.695114   861.201355   \n",
      "\n",
      "Ticker      TATAMOTORS.NS       TCS.NS  \n",
      "Date                                    \n",
      "2021-01-01     185.348572  2683.360840  \n",
      "2021-01-04     190.118927  2785.260986  \n",
      "2021-01-05     192.007202  2834.332764  \n",
      "2021-01-06     194.193604  2796.302979  \n",
      "2021-01-07     195.535294  2779.167236  \n"
     ]
    },
    {
     "name": "stderr",
     "output_type": "stream",
     "text": [
      "\n"
     ]
    }
   ],
   "source": [
    "#yf = yahoo finance\n",
    "import yfinance as yf\n",
    "\n",
    "#(NSE India stocks with .NS suffix)\n",
    "stocks = [\"TCS.NS\", \"INFY.NS\", \"HDFCBANK.NS\", \"RELIANCE.NS\", \"ITC.NS\", \"TATAMOTORS.NS\", \"BAJFINANCE.NS\"]\n",
    "\n",
    "# Download historical stock data for 3 years\n",
    "df = yf.download(stocks, start=\"2021-01-01\", end=\"2024-01-01\")\n",
    "\n",
    "#WE ARE USING ONLY THE CLOSE PRICE OF THE STOCKS\n",
    "df = df['Close']\n",
    "print(df.head())"
   ]
  },
  {
   "cell_type": "code",
   "execution_count": 10,
   "metadata": {},
   "outputs": [],
   "source": [
    "\"\"\"we are calculating the daily return and the covariance matrix , the matrix is imp cause it tells us if our portfolio is well balanced or not\n",
    "if the covariance is high then the stocks are not well balanced and if the covariance is low then the stocks are well balanced\"\"\"\n",
    "\n",
    "returns = df.pct_change()\n",
    "mean_returns = returns.mean()\n",
    "cov_mat = returns.cov()\n"
   ]
  },
  {
   "cell_type": "code",
   "execution_count": 15,
   "metadata": {},
   "outputs": [
    {
     "name": "stdout",
     "output_type": "stream",
     "text": [
      "[[ 2.12437800e-03 -1.19680306e-04 -8.72512907e-05 -7.80136720e-05\n",
      "  -1.11040710e-04 -1.68183207e-04 -7.11395582e-05]\n",
      " [-1.19680306e-04  1.14508629e-03 -6.88003477e-05 -4.47956021e-05\n",
      "  -7.81294684e-05 -1.13221196e-04 -5.53349492e-05]\n",
      " [-8.72512907e-05 -6.88003477e-05  1.28010431e-03 -4.02233253e-05\n",
      "  -6.99796470e-05 -1.03995006e-04 -1.38913460e-04]\n",
      " [-7.80136720e-05 -4.47956021e-05 -4.02233253e-05  1.09301069e-04\n",
      "  -6.33775257e-05 -1.06829084e-04 -2.94473963e-05]\n",
      " [-1.11040710e-04 -7.81294684e-05 -6.99796470e-05 -6.33775257e-05\n",
      "   1.09533499e-03 -1.34374742e-04 -5.76862894e-05]\n",
      " [-1.68183207e-04 -1.13221196e-04 -1.03995006e-04 -1.06829084e-04\n",
      "  -1.34374742e-04  2.28197068e-03 -9.63110402e-05]\n",
      " [-7.11395582e-05 -5.53349492e-05 -1.38913460e-04 -2.94473963e-05\n",
      "  -5.76862894e-05 -9.63110402e-05  8.08871961e-04]]\n"
     ]
    },
    {
     "name": "stderr",
     "output_type": "stream",
     "text": [
      "C:\\Users\\Aditya Dwaraki Rao\\AppData\\Local\\Temp\\ipykernel_18128\\1286306283.py:6: FutureWarning: Series.__getitem__ treating keys as positions is deprecated. In a future version, integer keys will always be treated as labels (consistent with DataFrame behavior). To access a value by position, use `ser.iloc[pos]`\n",
      "  Q[i,i] = -mean_returns[i]+penalty*cov_mat.iloc[i,i]\n"
     ]
    }
   ],
   "source": [
    "#building the qubo matrix\n",
    "assets = len(stocks)\n",
    "Q = np.zeros([assets, assets]) #init the qubo matrix\n",
    "penalty  = np.mean(abs(mean_returns)) / np.mean(abs(cov_mat.values))\n",
    "for i in range(assets):\n",
    "    Q[i,i] = -mean_returns[i]+penalty*cov_mat.iloc[i,i]\n",
    "    for j in range(i+1, assets):\n",
    "        Q[i,j] = -cov_mat.iloc[i,j]\n",
    "        Q[j,i] = -cov_mat.iloc[i,j]\n",
    "\n",
    "print(Q)   \n"
   ]
  },
  {
   "cell_type": "code",
   "execution_count": null,
   "metadata": {},
   "outputs": [
    {
     "ename": "AttributeError",
     "evalue": "module 'qiskit_aer.backends' has no attribute 'get_backend'",
     "output_type": "error",
     "traceback": [
      "\u001b[1;31m---------------------------------------------------------------------------\u001b[0m",
      "\u001b[1;31mAttributeError\u001b[0m                            Traceback (most recent call last)",
      "Cell \u001b[1;32mIn[20], line 12\u001b[0m\n\u001b[0;32m      9\u001b[0m qubo\u001b[38;5;241m.\u001b[39mminimize(linear\u001b[38;5;241m=\u001b[39mlinear_terms, quadratic\u001b[38;5;241m=\u001b[39mquadratic_terms)\n\u001b[0;32m     11\u001b[0m \u001b[38;5;66;03m#lets use QAOA to solve\u001b[39;00m\n\u001b[1;32m---> 12\u001b[0m backend \u001b[38;5;241m=\u001b[39m \u001b[43mbackends\u001b[49m\u001b[38;5;241;43m.\u001b[39;49m\u001b[43mget_backend\u001b[49m(\u001b[38;5;124m'\u001b[39m\u001b[38;5;124mqasm_simulator\u001b[39m\u001b[38;5;124m'\u001b[39m)\n\u001b[0;32m     13\u001b[0m qaoa \u001b[38;5;241m=\u001b[39m QAOA(optimizer\u001b[38;5;241m=\u001b[39mCOBYLA(), reps\u001b[38;5;241m=\u001b[39m\u001b[38;5;241m1\u001b[39m, quantum_instance\u001b[38;5;241m=\u001b[39mbackend)\n\u001b[0;32m     14\u001b[0m result \u001b[38;5;241m=\u001b[39m qaoa\u001b[38;5;241m.\u001b[39msolve(qubo)\n",
      "\u001b[1;31mAttributeError\u001b[0m: module 'qiskit_aer.backends' has no attribute 'get_backend'"
     ]
    }
   ],
   "source": [
    "#building QAOA to solve qubo matrix\n",
    "qubo = QuadraticProgram()\n",
    "for i in range(assets):\n",
    "    qubo.binary_var(f\"x{i}\")\n",
    "\n",
    "#need to convert qubo to optimisation problem\n",
    "linear_terms =  {f\"x{i}\": Q[i, i] for i in range(assets)}\n",
    "quadratic_terms = {(f\"x{i}\", f\"x{j}\"): Q[i, j] for i in range(assets) for j in range(i + 1, assets)}\n",
    "qubo.minimize(linear=linear_terms, quadratic=quadratic_terms)\n",
    "\n",
    "#lets use QAOA to solve\n",
    "backend = Aer.get_backend('qasm_simulator')\n",
    "qaoa = QAOA(optimizer=COBYLA(), reps=1, quantum_instance=backend)\n",
    "result = qaoa.solve(qubo)\n"
   ]
  }
 ],
 "metadata": {
  "kernelspec": {
   "display_name": "Python 3",
   "language": "python",
   "name": "python3"
  },
  "language_info": {
   "codemirror_mode": {
    "name": "ipython",
    "version": 3
   },
   "file_extension": ".py",
   "mimetype": "text/x-python",
   "name": "python",
   "nbconvert_exporter": "python",
   "pygments_lexer": "ipython3",
   "version": "3.12.6"
  }
 },
 "nbformat": 4,
 "nbformat_minor": 2
}
