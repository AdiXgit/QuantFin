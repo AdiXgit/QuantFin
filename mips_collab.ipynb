{
  "nbformat": 4,
  "nbformat_minor": 0,
  "metadata": {
    "colab": {
      "provenance": []
    },
    "kernelspec": {
      "name": "python3",
      "display_name": "Python 3"
    },
    "language_info": {
      "name": "python"
    }
  },
  "cells": [
    {
      "cell_type": "code",
      "execution_count": 19,
      "metadata": {
        "id": "bJee2jZNiER-",
        "colab": {
          "base_uri": "https://localhost:8080/"
        },
        "outputId": "ab9944d7-e246-4b3d-ccdd-b3ce294e178c"
      },
      "outputs": [
        {
          "output_type": "stream",
          "name": "stdout",
          "text": [
            "Expected Return:  0.0006441947666122594\n",
            "Covariance Matrix:                Daily Return\n",
            "Daily Return      0.000059\n"
          ]
        }
      ],
      "source": [
        "import pandas as pd\n",
        "df = pd.read_csv(\"NIFTY_50_Combined.csv\")\n",
        "df.columns = df.columns.str.strip()\n",
        "df[\"Date\"] = pd.to_datetime(df[\"Date\"], format=\"%Y-%m-%d\")\n",
        "df = df.sort_values(by=\"Date\").reset_index(drop=True)\n",
        "\n",
        "#computing daily return\n",
        "df[\"Daily Return\"] = df[\"Close\"].pct_change()\n",
        "df = df.dropna().reset_index(drop = True)\n",
        "expected_return = df[\"Daily Return\"].mean() #expected return\n",
        "\n",
        "#covariance matrix for risk estimation\n",
        "cov_matrix = df[[\"Daily Return\"]].cov()\n",
        "\n",
        "print(\"Expected Return: \", expected_return)\n",
        "print(\"Covariance Matrix: \", cov_matrix)"
      ]
    },
    {
      "cell_type": "code",
      "source": [
        "import numpy as np\n",
        "assets = 7\n",
        "returns = np.array(df[\"Daily Return\"][:assets])\n",
        "cov_matrix = df[\"Daily Return\"].iloc[:assets].to_numpy().reshape(-1, 1) @ df[\"Daily Return\"].iloc[:assets].to_numpy().reshape(1, -1)\n",
        "\n",
        "#setting the penalty factor\n",
        "penalty = 0.1\n",
        "\n",
        "#defining the QUBO problem\n",
        "Q = np.zeros((assets, assets))\n",
        "#filling the matrix using qubo formulation\n",
        "for i in range(assets):\n",
        "    Q[i, i] = -returns[i]+penalty*cov_matrix[i, i]\n",
        "    for j in range(i+1, assets):\n",
        "        Q[i, j] = -penalty*cov_matrix[i, j]\n",
        "\n",
        "#symmetrise the matrix\n",
        "Q = (Q + Q.T)-np.diag(Q.diagonal())\n",
        "print(Q)"
      ],
      "metadata": {
        "colab": {
          "base_uri": "https://localhost:8080/"
        },
        "id": "jyn1g7nhip3q",
        "outputId": "f848b84f-311d-4271-df37-e0324f708727"
      },
      "execution_count": 20,
      "outputs": [
        {
          "output_type": "stream",
          "name": "stdout",
          "text": [
            "[[-2.59467933e-03  1.13486826e-06  2.00386066e-06 -6.22607169e-07\n",
            "   5.19507581e-07 -1.97502626e-06 -4.24006763e-06]\n",
            " [ 1.13486826e-06  4.37460545e-03 -3.37613750e-06  1.04897883e-06\n",
            "  -8.75274942e-07  3.32755682e-06  7.14373588e-06]\n",
            " [ 2.00386066e-06 -3.37613750e-06  7.72691770e-03  1.85220390e-06\n",
            "  -1.54549131e-06  5.87553681e-06  1.26138442e-05]\n",
            " [-6.22607169e-07  1.04897883e-06  1.85220390e-06 -2.39835517e-03\n",
            "   4.80190057e-07 -1.82555175e-06 -3.91916959e-06]\n",
            " [ 5.19507581e-07 -8.75274942e-07 -1.54549131e-06  4.80190057e-07\n",
            "   2.00208444e-03  1.52325257e-06  3.27018129e-06]\n",
            " [-1.97502626e-06  3.32755682e-06  5.87553681e-06 -1.82555175e-06\n",
            "   1.52325257e-06 -7.60406525e-03 -1.24323382e-05]\n",
            " [-4.24006763e-06  7.14373588e-06  1.26138442e-05 -3.91916959e-06\n",
            "   3.27018129e-06 -1.24323382e-05 -1.63104622e-02]]\n"
          ]
        }
      ]
    },
    {
      "cell_type": "code",
      "source": [
        "!pip install mip"
      ],
      "metadata": {
        "colab": {
          "base_uri": "https://localhost:8080/"
        },
        "id": "8SnfLvZoixby",
        "outputId": "802e1583-64ce-4ecd-e3ac-32ea1a4b863d"
      },
      "execution_count": 21,
      "outputs": [
        {
          "output_type": "stream",
          "name": "stdout",
          "text": [
            "Requirement already satisfied: mip in /usr/local/lib/python3.11/dist-packages (1.15.0)\n",
            "Requirement already satisfied: cffi==1.15.* in /usr/local/lib/python3.11/dist-packages (from mip) (1.15.1)\n",
            "Requirement already satisfied: pycparser in /usr/local/lib/python3.11/dist-packages (from cffi==1.15.*->mip) (2.22)\n"
          ]
        }
      ]
    },
    {
      "cell_type": "code",
      "source": [
        "from mip import Model, xsum, BINARY, OptimizationStatus\n",
        "model = Model()\n",
        "\n",
        "# Original binary variables for asset selection\n",
        "x = [model.add_var(var_type=BINARY) for _ in range(assets)]\n",
        "# Additional binary variables to linearize the product for i<j\n",
        "z = {}\n",
        "for i in range(assets):\n",
        "    for j in range(i+1, assets):\n",
        "        z[(i, j)] = model.add_var(var_type=BINARY)\n",
        "\n",
        "# Add constraints to enforce z[i,j] = x[i]*x[j] for i < j\n",
        "for i in range(assets):\n",
        "    for j in range(i+1, assets):\n",
        "        model += z[(i,j)] <= x[i]\n",
        "        model += z[(i,j)] <= x[j]\n",
        "        model += z[(i,j)] >= x[i] + x[j] - 1\n",
        "\n",
        "# Build the linearized objective.\n",
        "# Diagonal terms remain as Q[i,i]*x[i]\n",
        "objective_expr = xsum(Q[i][i] * x[i] for i in range(assets))\n",
        "# Off-diagonal terms: for i < j, add  Q[i,j] * z[i,j] plus symmetric term\n",
        "for i in range(assets):\n",
        "    for j in range(i+1, assets):\n",
        "        objective_expr += Q[i][j] * z[(i,j)]\n",
        "\n",
        "model.objective = objective_expr\n",
        "\n",
        "# Add budget constraint: select exactly k assets (e.g., k = 3)\n",
        "k = 3\n",
        "model += xsum(x[i] for i in range(assets)) == k\n",
        "\n",
        "model.optimize()\n",
        "\n",
        "if model.status == OptimizationStatus.OPTIMAL:\n",
        "    solution = [round(x[i].x) for i in range(assets)]\n",
        "    print(\"Optimal asset selection:\", solution)\n",
        "else:\n",
        "    print(\"No optimal solution found\")\n"
      ],
      "metadata": {
        "colab": {
          "base_uri": "https://localhost:8080/"
        },
        "id": "1loYEAXLisda",
        "outputId": "a8dc847d-77d3-41a9-c0f0-f6ac4ee868c8"
      },
      "execution_count": 22,
      "outputs": [
        {
          "output_type": "stream",
          "name": "stdout",
          "text": [
            "Optimal asset selection: [1, 0, 0, 0, 0, 1, 1]\n"
          ]
        }
      ]
    }
  ]
}