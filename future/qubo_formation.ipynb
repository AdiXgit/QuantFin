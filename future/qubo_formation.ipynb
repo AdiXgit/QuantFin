{
 "cells": [
  {
   "cell_type": "code",
   "execution_count": null,
   "id": "ab39788a",
   "metadata": {},
   "outputs": [],
   "source": [
    "import yfinance as yf\n"
   ]
  }
 ],
 "metadata": {
  "kernelspec": {
   "display_name": "Python 3",
   "language": "python",
   "name": "python3"
  },
  "language_info": {
   "name": "python",
   "version": "3.12.6"
  }
 },
 "nbformat": 4,
 "nbformat_minor": 5
}
