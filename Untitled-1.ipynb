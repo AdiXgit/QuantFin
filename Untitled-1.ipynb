{
 "cells": [
  {
   "cell_type": "code",
   "execution_count": 6,
   "metadata": {},
   "outputs": [
    {
     "name": "stdout",
     "output_type": "stream",
     "text": [
      "Expected Return:  0.0006441947666122594\n",
      "Covariance Matrix:                Daily Return\n",
      "Daily Return      0.000059\n"
     ]
    }
   ],
   "source": [
    "import pandas as pd\n",
    "df = pd.read_csv(\"NIFTY_50_Combined.csv\")\n",
    "df.columns = df.columns.str.strip()\n",
    "df[\"Date\"] = pd.to_datetime(df[\"Date\"], format=\"%Y-%m-%d\")\n",
    "df = df.sort_values(by=\"Date\").reset_index(drop=True)\n",
    "\n",
    "#computing daily return\n",
    "df[\"Daily Return\"] = df[\"Close\"].pct_change()\n",
    "df = df.dropna().reset_index(drop = True)\n",
    "expected_return = df[\"Daily Return\"].mean() #expected return\n",
    "\n",
    "#covariance matrix for risk estimation\n",
    "cov_matrix = df[[\"Daily Return\"]].cov()\n",
    "\n",
    "print(\"Expected Return: \", expected_return)\n",
    "print(\"Covariance Matrix: \", cov_matrix)\n"
   ]
  },
  {
   "cell_type": "code",
   "execution_count": 7,
   "metadata": {},
   "outputs": [
    {
     "name": "stdout",
     "output_type": "stream",
     "text": [
      "[[-2.59467933e-03  1.13486826e-06  2.00386066e-06 -6.22607169e-07\n",
      "   5.19507581e-07 -1.97502626e-06 -4.24006763e-06]\n",
      " [ 1.13486826e-06  4.37460545e-03 -3.37613750e-06  1.04897883e-06\n",
      "  -8.75274942e-07  3.32755682e-06  7.14373588e-06]\n",
      " [ 2.00386066e-06 -3.37613750e-06  7.72691770e-03  1.85220390e-06\n",
      "  -1.54549131e-06  5.87553681e-06  1.26138442e-05]\n",
      " [-6.22607169e-07  1.04897883e-06  1.85220390e-06 -2.39835517e-03\n",
      "   4.80190057e-07 -1.82555175e-06 -3.91916959e-06]\n",
      " [ 5.19507581e-07 -8.75274942e-07 -1.54549131e-06  4.80190057e-07\n",
      "   2.00208444e-03  1.52325257e-06  3.27018129e-06]\n",
      " [-1.97502626e-06  3.32755682e-06  5.87553681e-06 -1.82555175e-06\n",
      "   1.52325257e-06 -7.60406525e-03 -1.24323382e-05]\n",
      " [-4.24006763e-06  7.14373588e-06  1.26138442e-05 -3.91916959e-06\n",
      "   3.27018129e-06 -1.24323382e-05 -1.63104622e-02]]\n"
     ]
    }
   ],
   "source": [
    "#solve portfolio optimization using QAOA, we need to convert it into a Quadratic Unconstrained Binary Optimization (QUBO) problem.\n",
    "import numpy as np\n",
    "assets = 7\n",
    "returns = np.array(df[\"Daily Return\"][:assets])\n",
    "cov_matrix = df[\"Daily Return\"].iloc[:assets].to_numpy().reshape(-1, 1) @ df[\"Daily Return\"].iloc[:assets].to_numpy().reshape(1, -1)\n",
    "\n",
    "#setting the penalty factor\n",
    "penalty = 0.1\n",
    "\n",
    "#defining the QUBO problem\n",
    "Q = np.zeros((assets, assets))\n",
    "#filling the matrix using qubo formulation\n",
    "for i in range(assets):\n",
    "    Q[i, i] = -returns[i]+penalty*cov_matrix[i, i]\n",
    "    for j in range(i+1, assets):\n",
    "        Q[i, j] = -penalty*cov_matrix[i, j]\n",
    "\n",
    "#symmetrise the matrix\n",
    "Q = (Q + Q.T)-np.diag(Q.diagonal())\n",
    "print(Q)\n"
   ]
  },
  {
   "cell_type": "code",
   "execution_count": 8,
   "metadata": {},
   "outputs": [
    {
     "name": "stdout",
     "output_type": "stream",
     "text": [
      "1.4.2\n"
     ]
    }
   ],
   "source": [
    "import qiskit\n",
    "print(qiskit.__version__)\n"
   ]
  },
  {
   "cell_type": "code",
   "execution_count": 9,
   "metadata": {},
   "outputs": [
    {
     "ename": "ImportError",
     "evalue": "cannot import name 'Aer' from 'qiskit' (c:\\Users\\Aditya Dwaraki Rao\\AppData\\Local\\Programs\\Python\\Python312\\Lib\\site-packages\\qiskit\\__init__.py)",
     "output_type": "error",
     "traceback": [
      "\u001b[1;31m---------------------------------------------------------------------------\u001b[0m",
      "\u001b[1;31mImportError\u001b[0m                               Traceback (most recent call last)",
      "Cell \u001b[1;32mIn[9], line 1\u001b[0m\n\u001b[1;32m----> 1\u001b[0m \u001b[38;5;28;01mfrom\u001b[39;00m \u001b[38;5;21;01mqiskit\u001b[39;00m \u001b[38;5;28;01mimport\u001b[39;00m Aer, execute\n\u001b[0;32m      2\u001b[0m \u001b[38;5;28;01mfrom\u001b[39;00m \u001b[38;5;21;01mqiskit\u001b[39;00m\u001b[38;5;21;01m.\u001b[39;00m\u001b[38;5;21;01malgorithms\u001b[39;00m \u001b[38;5;28;01mimport\u001b[39;00m QAOA\n\u001b[0;32m      3\u001b[0m \u001b[38;5;28;01mfrom\u001b[39;00m \u001b[38;5;21;01mqiskit\u001b[39;00m\u001b[38;5;21;01m.\u001b[39;00m\u001b[38;5;21;01moptimization\u001b[39;00m \u001b[38;5;28;01mimport\u001b[39;00m QuadraticProgram\n",
      "\u001b[1;31mImportError\u001b[0m: cannot import name 'Aer' from 'qiskit' (c:\\Users\\Aditya Dwaraki Rao\\AppData\\Local\\Programs\\Python\\Python312\\Lib\\site-packages\\qiskit\\__init__.py)"
     ]
    }
   ],
   "source": [
    "from qiskit import Aer, execute\n",
    "from qiskit.algorithms import QAOA\n",
    "from qiskit.optimization import QuadraticProgram\n",
    "from qiskit_optimization.converters import from_qiskit\n",
    "from qiskit.utils import algorithm_globals\n",
    "from qiskit_algorithms.optimizers import COBYLA\n",
    "from qiskit.providers.aer import AerSimulator\n",
    "import numpy as np"
   ]
  },
  {
   "cell_type": "code",
   "execution_count": 10,
   "metadata": {},
   "outputs": [
    {
     "ename": "ImportError",
     "evalue": "cannot import name 'Aer' from 'qiskit' (c:\\Users\\Aditya Dwaraki Rao\\AppData\\Local\\Programs\\Python\\Python312\\Lib\\site-packages\\qiskit\\__init__.py)",
     "output_type": "error",
     "traceback": [
      "\u001b[1;31m---------------------------------------------------------------------------\u001b[0m",
      "\u001b[1;31mImportError\u001b[0m                               Traceback (most recent call last)",
      "Cell \u001b[1;32mIn[10], line 1\u001b[0m\n\u001b[1;32m----> 1\u001b[0m \u001b[38;5;28;01mfrom\u001b[39;00m \u001b[38;5;21;01mqiskit\u001b[39;00m \u001b[38;5;28;01mimport\u001b[39;00m Aer\n\u001b[0;32m      2\u001b[0m \u001b[38;5;28mprint\u001b[39m(Aer\u001b[38;5;241m.\u001b[39mbackends())\n",
      "\u001b[1;31mImportError\u001b[0m: cannot import name 'Aer' from 'qiskit' (c:\\Users\\Aditya Dwaraki Rao\\AppData\\Local\\Programs\\Python\\Python312\\Lib\\site-packages\\qiskit\\__init__.py)"
     ]
    }
   ],
   "source": [
    "from qiskit import Aer\n",
    "print(Aer.backends())\n"
   ]
  }
 ],
 "metadata": {
  "kernelspec": {
   "display_name": "Python 3",
   "language": "python",
   "name": "python3"
  },
  "language_info": {
   "codemirror_mode": {
    "name": "ipython",
    "version": 3
   },
   "file_extension": ".py",
   "mimetype": "text/x-python",
   "name": "python",
   "nbconvert_exporter": "python",
   "pygments_lexer": "ipython3",
   "version": "3.12.6"
  }
 },
 "nbformat": 4,
 "nbformat_minor": 2
}
