{
 "cells": [
  {
   "cell_type": "code",
   "execution_count": null,
   "metadata": {},
   "outputs": [],
   "source": [
    "#new_file\n",
    "import pandas as pd\n",
    "df = pd.read_csv(\"NIFTY_50_Combined.csv\")\n",
    "df.columns = df.columns.str.strip()\n",
    "df[\"Date\"] = pd.to_datetime(df[\"Date\"], format=\"%Y-%m-%d\")\n",
    "df = df.sort_values(by=\"Date\").reset_index(drop=True)\n",
    "\n",
    "#computing daily return\n",
    "df[\"Daily Return\"] = df[\"Close\"].pct_change()\n",
    "df = df.dropna().reset_index(drop = True)\n",
    "expected_return = df[\"Daily Return\"].mean() #expected return\n",
    "\n",
    "#covariance matrix for risk estimation\n",
    "cov_matrix = df[[\"Daily Return\"]].cov()\n",
    "\n",
    "print(\"Expected Return: \", expected_return)\n",
    "print(\"Covariance Matrix: \", cov_matrix)\n",
    "\n"
   ]
  },
  {
   "cell_type": "code",
   "execution_count": 2,
   "metadata": {},
   "outputs": [
    {
     "ename": "ImportError",
     "evalue": "cannot import name 'Aer' from 'qskit' (c:\\Users\\Aditya Dwaraki Rao\\AppData\\Local\\Programs\\Python\\Python312\\Lib\\site-packages\\qskit\\__init__.py)",
     "output_type": "error",
     "traceback": [
      "\u001b[1;31m---------------------------------------------------------------------------\u001b[0m",
      "\u001b[1;31mImportError\u001b[0m                               Traceback (most recent call last)",
      "Cell \u001b[1;32mIn[2], line 2\u001b[0m\n\u001b[0;32m      1\u001b[0m \u001b[38;5;28;01mimport\u001b[39;00m \u001b[38;5;21;01mqskit\u001b[39;00m\n\u001b[1;32m----> 2\u001b[0m \u001b[38;5;28;01mfrom\u001b[39;00m \u001b[38;5;21;01mqskit\u001b[39;00m \u001b[38;5;28;01mimport\u001b[39;00m Aer , execute\n",
      "\u001b[1;31mImportError\u001b[0m: cannot import name 'Aer' from 'qskit' (c:\\Users\\Aditya Dwaraki Rao\\AppData\\Local\\Programs\\Python\\Python312\\Lib\\site-packages\\qskit\\__init__.py)"
     ]
    }
   ],
   "source": [
    "import qskit\n",
    "from qskit import Aer , execute\n"
   ]
  }
 ],
 "metadata": {
  "kernelspec": {
   "display_name": "Python 3",
   "language": "python",
   "name": "python3"
  },
  "language_info": {
   "codemirror_mode": {
    "name": "ipython",
    "version": 3
   },
   "file_extension": ".py",
   "mimetype": "text/x-python",
   "name": "python",
   "nbconvert_exporter": "python",
   "pygments_lexer": "ipython3",
   "version": "3.12.6"
  }
 },
 "nbformat": 4,
 "nbformat_minor": 2
}
