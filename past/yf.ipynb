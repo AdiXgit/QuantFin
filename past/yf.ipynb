{
 "cells": [
  {
   "cell_type": "code",
   "execution_count": null,
   "metadata": {},
   "outputs": [
    {
     "name": "stderr",
     "output_type": "stream",
     "text": [
      "[*********************100%***********************]  7 of 7 completed"
     ]
    },
    {
     "name": "stdout",
     "output_type": "stream",
     "text": [
      "Ticker      BAJFINANCE.NS  HDFCBANK.NS      INFY.NS      ITC.NS  RELIANCE.NS  \\\n",
      "Date                                                                           \n",
      "2023-01-02    6493.421875  1588.541748  1459.632568  310.467590  1176.415771   \n",
      "2023-01-03    6545.438477  1598.929077  1458.243652  308.835297  1167.806885   \n",
      "2023-01-04    6510.513184  1570.351685  1431.665771  305.010956  1150.223877   \n",
      "2023-01-05    6043.897949  1560.256714  1412.893433  311.027252  1148.168701   \n",
      "2023-01-06    5925.349609  1555.087524  1387.321289  312.519653  1158.604370   \n",
      "\n",
      "Ticker           TCS.NS    WIPRO.NS  \n",
      "Date                                 \n",
      "2023-01-02  3055.949219  191.404358  \n",
      "2023-01-03  3102.705322  193.352249  \n",
      "2023-01-04  3105.797363  189.773010  \n",
      "2023-01-05  3102.471191  188.409485  \n",
      "2023-01-06  3009.193359  186.023315  \n"
     ]
    },
    {
     "name": "stderr",
     "output_type": "stream",
     "text": [
      "\n"
     ]
    }
   ],
   "source": [
    "import yfinance as yf\n",
    "import pandas as pd\n",
    "\n",
    "# List of stock symbols (NSE India stocks with .NS suffix)\n",
    "stocks = [\"TCS.NS\", \"INFY.NS\", \"HDFCBANK.NS\", \"RELIANCE.NS\", \"ITC.NS\", \"WIPRO.NS\", \"BAJFINANCE.NS\"]\n",
    "\n",
    "# Download historical stock data (1 year)\n",
    "df = yf.download(stocks, start=\"2023-01-01\", end=\"2024-01-01\")\n",
    "\n",
    "\n",
    "df = df[\"Close\"]\n",
    "\n",
    "\n",
    "df.to_csv(\"stock_prices.csv\")\n",
    "\n",
    "print(df.head())  # Display sample data\n"
   ]
  },
  {
   "cell_type": "code",
   "execution_count": null,
   "metadata": {},
   "outputs": [
    {
     "name": "stdout",
     "output_type": "stream",
     "text": [
      "Expected Returns:\n",
      " Ticker\n",
      "BAJFINANCE.NS    0.000590\n",
      "HDFCBANK.NS      0.000301\n",
      "INFY.NS          0.000267\n",
      "ITC.NS           0.001495\n",
      "RELIANCE.NS      0.000431\n",
      "TCS.NS           0.000818\n",
      "WIPRO.NS         0.000830\n",
      "dtype: float64\n",
      "\n",
      "Covariance Matrix:\n",
      " Ticker         BAJFINANCE.NS  HDFCBANK.NS   INFY.NS    ITC.NS  RELIANCE.NS  \\\n",
      "Ticker                                                                       \n",
      "BAJFINANCE.NS       0.000231     0.000040  0.000040  0.000017     0.000040   \n",
      "HDFCBANK.NS         0.000040     0.000113  0.000043  0.000003     0.000046   \n",
      "INFY.NS             0.000040     0.000043  0.000216  0.000021     0.000052   \n",
      "ITC.NS              0.000017     0.000003  0.000021  0.000120     0.000037   \n",
      "RELIANCE.NS         0.000040     0.000046  0.000052  0.000037     0.000120   \n",
      "TCS.NS              0.000040     0.000029  0.000116  0.000013     0.000028   \n",
      "WIPRO.NS            0.000028     0.000040  0.000111  0.000024     0.000045   \n",
      "\n",
      "Ticker           TCS.NS  WIPRO.NS  \n",
      "Ticker                             \n",
      "BAJFINANCE.NS  0.000040  0.000028  \n",
      "HDFCBANK.NS    0.000029  0.000040  \n",
      "INFY.NS        0.000116  0.000111  \n",
      "ITC.NS         0.000013  0.000024  \n",
      "RELIANCE.NS    0.000028  0.000045  \n",
      "TCS.NS         0.000131  0.000086  \n",
      "WIPRO.NS       0.000086  0.000153  \n"
     ]
    }
   ],
   "source": [
    "\n",
    "returns = df.pct_change().dropna()\n",
    "\n",
    "\n",
    "expected_returns = returns.mean()\n",
    "\n",
    "# Compute covariance matrix (risk estimation)\n",
    "cov_matrix = returns.cov()\n",
    "\n",
    "print(\"Expected Returns:\\n\", expected_returns)\n",
    "print(\"\\nCovariance Matrix:\\n\", cov_matrix)\n"
   ]
  },
  {
   "cell_type": "code",
   "execution_count": 12,
   "metadata": {},
   "outputs": [
    {
     "name": "stdout",
     "output_type": "stream",
     "text": [
      "Checking for NaN values in Returns DataFrame:\n",
      "Ticker\n",
      "BAJFINANCE.NS    0\n",
      "HDFCBANK.NS      0\n",
      "INFY.NS          0\n",
      "ITC.NS           0\n",
      "RELIANCE.NS      0\n",
      "TCS.NS           0\n",
      "WIPRO.NS         0\n",
      "dtype: int64\n"
     ]
    }
   ],
   "source": [
    "print(\"Checking for NaN values in Returns DataFrame:\")\n",
    "print(returns.isna().sum())\n"
   ]
  },
  {
   "cell_type": "code",
   "execution_count": 13,
   "metadata": {},
   "outputs": [
    {
     "name": "stdout",
     "output_type": "stream",
     "text": [
      "\n",
      "Expected Returns:\n",
      "Ticker\n",
      "BAJFINANCE.NS    0.000590\n",
      "HDFCBANK.NS      0.000301\n",
      "INFY.NS          0.000267\n",
      "ITC.NS           0.001495\n",
      "RELIANCE.NS      0.000431\n",
      "TCS.NS           0.000818\n",
      "WIPRO.NS         0.000830\n",
      "dtype: float64\n",
      "\n",
      "Covariance Matrix:\n",
      "Ticker         BAJFINANCE.NS  HDFCBANK.NS   INFY.NS    ITC.NS  RELIANCE.NS  \\\n",
      "Ticker                                                                       \n",
      "BAJFINANCE.NS       0.000231     0.000040  0.000040  0.000017     0.000040   \n",
      "HDFCBANK.NS         0.000040     0.000113  0.000043  0.000003     0.000046   \n",
      "INFY.NS             0.000040     0.000043  0.000216  0.000021     0.000052   \n",
      "ITC.NS              0.000017     0.000003  0.000021  0.000120     0.000037   \n",
      "RELIANCE.NS         0.000040     0.000046  0.000052  0.000037     0.000120   \n",
      "TCS.NS              0.000040     0.000029  0.000116  0.000013     0.000028   \n",
      "WIPRO.NS            0.000028     0.000040  0.000111  0.000024     0.000045   \n",
      "\n",
      "Ticker           TCS.NS  WIPRO.NS  \n",
      "Ticker                             \n",
      "BAJFINANCE.NS  0.000040  0.000028  \n",
      "HDFCBANK.NS    0.000029  0.000040  \n",
      "INFY.NS        0.000116  0.000111  \n",
      "ITC.NS         0.000013  0.000024  \n",
      "RELIANCE.NS    0.000028  0.000045  \n",
      "TCS.NS         0.000131  0.000086  \n",
      "WIPRO.NS       0.000086  0.000153  \n"
     ]
    }
   ],
   "source": [
    "print(\"\\nExpected Returns:\")\n",
    "print(expected_returns)\n",
    "\n",
    "print(\"\\nCovariance Matrix:\")\n",
    "print(cov_matrix)\n"
   ]
  },
  {
   "cell_type": "code",
   "execution_count": null,
   "metadata": {},
   "outputs": [
    {
     "name": "stdout",
     "output_type": "stream",
     "text": [
      "Checking raw stock price data:\n",
      "Ticker      BAJFINANCE.NS  HDFCBANK.NS      INFY.NS      ITC.NS  RELIANCE.NS  \\\n",
      "Date                                                                           \n",
      "2023-01-02    6493.421875  1588.541748  1459.632568  310.467590  1176.415771   \n",
      "2023-01-03    6545.438477  1598.929077  1458.243652  308.835297  1167.806885   \n",
      "2023-01-04    6510.513184  1570.351685  1431.665771  305.010956  1150.223877   \n",
      "2023-01-05    6043.897949  1560.256714  1412.893433  311.027252  1148.168701   \n",
      "2023-01-06    5925.349609  1555.087524  1387.321289  312.519653  1158.604370   \n",
      "\n",
      "Ticker           TCS.NS    WIPRO.NS  \n",
      "Date                                 \n",
      "2023-01-02  3055.949219  191.404358  \n",
      "2023-01-03  3102.705322  193.352249  \n",
      "2023-01-04  3105.797363  189.773010  \n",
      "2023-01-05  3102.471191  188.409485  \n",
      "2023-01-06  3009.193359  186.023315  \n",
      "\n",
      "Checking for missing values in stock prices:\n",
      "Ticker\n",
      "BAJFINANCE.NS    0\n",
      "HDFCBANK.NS      0\n",
      "INFY.NS          0\n",
      "ITC.NS           0\n",
      "RELIANCE.NS      0\n",
      "TCS.NS           0\n",
      "WIPRO.NS         0\n",
      "dtype: int64\n",
      "\n",
      "Expected Returns:\n",
      "Ticker\n",
      "BAJFINANCE.NS    0.000590\n",
      "HDFCBANK.NS      0.000301\n",
      "INFY.NS          0.000267\n",
      "ITC.NS           0.001495\n",
      "RELIANCE.NS      0.000431\n",
      "TCS.NS           0.000818\n",
      "dtype: float64\n",
      "\n",
      "Covariance Matrix:\n",
      "Ticker         BAJFINANCE.NS  HDFCBANK.NS   INFY.NS    ITC.NS  RELIANCE.NS  \\\n",
      "Ticker                                                                       \n",
      "BAJFINANCE.NS       0.000231     0.000040  0.000040  0.000017     0.000040   \n",
      "HDFCBANK.NS         0.000040     0.000113  0.000043  0.000003     0.000046   \n",
      "INFY.NS             0.000040     0.000043  0.000216  0.000021     0.000052   \n",
      "ITC.NS              0.000017     0.000003  0.000021  0.000120     0.000037   \n",
      "RELIANCE.NS         0.000040     0.000046  0.000052  0.000037     0.000120   \n",
      "TCS.NS              0.000040     0.000029  0.000116  0.000013     0.000028   \n",
      "\n",
      "Ticker           TCS.NS  \n",
      "Ticker                   \n",
      "BAJFINANCE.NS  0.000040  \n",
      "HDFCBANK.NS    0.000029  \n",
      "INFY.NS        0.000116  \n",
      "ITC.NS         0.000013  \n",
      "RELIANCE.NS    0.000028  \n",
      "TCS.NS         0.000131  \n"
     ]
    }
   ],
   "source": [
    "print(\"Checking raw stock price data:\")\n",
    "print(df.head())  \n",
    "print(\"\\nChecking for missing values in stock prices:\")\n",
    "print(df.isna().sum())  \n",
    "\n",
    "if \"WIPRO.NS\" in df.columns:\n",
    "\tdf = df.drop(columns=[\"WIPRO.NS\"])\n",
    "df = df.dropna()\n",
    "\n",
    "\n",
    "\n",
    "returns = df.pct_change().dropna()\n",
    "\n",
    "\n",
    "expected_returns = returns.mean()\n",
    "\n",
    "\n",
    "cov_matrix = returns.cov()\n",
    "\n",
    "\n",
    "print(\"\\nExpected Returns:\")\n",
    "print(expected_returns)\n",
    "\n",
    "print(\"\\nCovariance Matrix:\")\n",
    "print(cov_matrix)\n"
   ]
  },
  {
   "cell_type": "code",
   "execution_count": null,
   "metadata": {},
   "outputs": [
    {
     "name": "stdout",
     "output_type": "stream",
     "text": [
      "QUBO Matrix:\n",
      " [[ 2.03975717e-03  4.57811209e-04  4.58442950e-04  1.92679860e-04\n",
      "   4.54056299e-04  4.49823405e-04]\n",
      " [ 4.57811209e-04  9.80791208e-04  4.91293423e-04  3.55972322e-05\n",
      "   5.20508758e-04  3.31185078e-04]\n",
      " [ 4.58442950e-04  4.91293423e-04  2.18752203e-03  2.40723899e-04\n",
      "   5.86071271e-04  1.31721306e-03]\n",
      " [ 1.92679860e-04  3.55972322e-05  2.40723899e-04 -1.26625069e-04\n",
      "   4.15490861e-04  1.46370849e-04]\n",
      " [ 4.54056299e-04  5.20508758e-04  5.86071271e-04  4.15490861e-04\n",
      "   9.33967911e-04  3.14534400e-04]\n",
      " [ 4.49823405e-04  3.31185078e-04  1.31721306e-03  1.46370849e-04\n",
      "   3.14534400e-04  6.71392261e-04]]\n"
     ]
    }
   ],
   "source": [
    "import numpy as np\n",
    "\n",
    "\n",
    "assets = len(expected_returns)\n",
    "\n",
    "# Convert expected returns and covariance matrix to NumPy arrays\n",
    "returns_array = expected_returns.to_numpy()\n",
    "cov_array = cov_matrix.to_numpy()\n",
    "\n",
    "# Define penalty factor (adjust if needed)\n",
    "penalty = np.mean(abs(returns_array)) / np.mean(abs(cov_array))  # Adaptive penalty\n",
    "\n",
    "# Initialize QUBO matrix\n",
    "Q = np.zeros((assets, assets))\n",
    "\n",
    "# Populate QUBO matrix\n",
    "for i in range(assets):\n",
    "    Q[i, i] = -returns_array[i] + penalty * cov_array[i, i]  # Self-term\n",
    "    for j in range(i + 1, assets):\n",
    "        Q[i, j] = penalty * cov_array[i, j]  # Cross-term\n",
    "        Q[j, i] = Q[i, j]  # Symmetric matrix\n",
    "\n",
    "# Print the final QUBO matrix\n",
    "print(\"QUBO Matrix:\\n\", Q)\n"
   ]
  },
  {
   "cell_type": "code",
   "execution_count": null,
   "metadata": {},
   "outputs": [
    {
     "name": "stdout",
     "output_type": "stream",
     "text": [
      "Optimal Portfolio Selection (Binary Encoding): {0: 0, 1: 0, 2: 0, 3: 1, 4: 0, 5: 0}\n",
      "Optimal Portfolio Energy: -0.00012662506871696788\n"
     ]
    }
   ],
   "source": [
    "import numpy as np\n",
    "from dwave.samplers import SimulatedAnnealingSampler\n",
    "\n",
    "\n",
    "# Convert QUBO matrix into dictionary format for the solver\n",
    "Q_dict = {(i, j): Q[i, j] for i in range(assets) for j in range(i, assets)}\n",
    "\n",
    "# Using Simulated Annealing Sampler\n",
    "sampler = SimulatedAnnealingSampler()\n",
    "response = sampler.sample_qubo(Q_dict, num_reads=1000)\n",
    "\n",
    "# Get the best solution\n",
    "best_solution = response.first.sample\n",
    "best_energy = response.first.energy\n",
    "\n",
    "# Print results\n",
    "print(\"Optimal Portfolio Selection (Binary Encoding):\", best_solution)\n",
    "print(\"Optimal Portfolio Energy:\", best_energy)\n"
   ]
  },
  {
   "cell_type": "code",
   "execution_count": null,
   "metadata": {},
   "outputs": [
    {
     "name": "stdout",
     "output_type": "stream",
     "text": [
      "Error using D-Wave quantum computer: Invalid token or access denied\n",
      "Falling back to Simulated Annealing results from previous cell...\n",
      "\n",
      "Simulated Annealing Results:\n",
      "Optimal Portfolio Selection: {0: 0, 1: 0, 2: 0, 3: 1, 4: 0, 5: 0}\n",
      "Selected stocks in portfolio: ['ITC.NS']\n"
     ]
    }
   ],
   "source": [
    "#trying with real D-Wave quantum computer\n",
    "from dwave.system import DWaveSampler, EmbeddingComposite\n",
    "import os\n",
    "from dwave.cloud import Client\n",
    "\n",
    "\n",
    "os.environ['DWAVE_API_TOKEN'] = 'YOUR-API-TOKEN-HERE'  # Replace with your actual token\n",
    "\n",
    "# Option 2: Load from configuration file\n",
    "# You need to create a .dwrc file in your home directory with your token\n",
    "# Or use dwave config create command from the terminal\n",
    "\n",
    "# Define a helper function to use existing solution if D-Wave fails\n",
    "def map_solution_to_stocks(solution, stock_list):\n",
    "\t# Get the current list of stocks from the dataframe (after dropping WIPRO.NS)\n",
    "\tcurrent_stocks = df.columns.tolist()\n",
    "\tselected_stocks = [current_stocks[i] for i in range(len(solution)) if solution[i] == 1]\n",
    "\treturn selected_stocks\n",
    "\n",
    "try:\n",
    "\t# First check if the token is configured\n",
    "\twith Client.from_config() as client:\n",
    "\t\tif client.get_solver():\n",
    "\t\t\tprint(\"D-Wave API token is configured correctly\")\n",
    "\t\t\t\n",
    "\t\t\t# Try to use the quantum computer\n",
    "\t\t\tsampler = EmbeddingComposite(DWaveSampler())\n",
    "\t\t\tresponse = sampler.sample_qubo(Q_dict, num_reads=1000)\n",
    "\t\t\t\n",
    "\t\t\t# Print results\n",
    "\t\t\tprint(\"Quantum Computer Results:\")\n",
    "\t\t\tprint(\"Optimal Portfolio Selection:\", response.first.sample)\n",
    "\t\t\tprint(\"Optimal Portfolio Energy:\", response.first.energy)\n",
    "\t\t\t\n",
    "\t\t\t# Map binary solution to stock names\n",
    "\t\t\tselected_stocks = map_solution_to_stocks(response.first.sample, df.columns)\n",
    "\t\t\tprint(\"Selected stocks in portfolio:\", selected_stocks)\n",
    "except Exception as e:\n",
    "\tprint(f\"Error using D-Wave quantum computer: {e}\")\n",
    "\tprint(\"Falling back to Simulated Annealing results from previous cell...\")\n",
    "\t\n",
    "\t# Show the existing simulated annealing results\n",
    "\tprint(\"\\nSimulated Annealing Results:\")\n",
    "\tprint(\"Optimal Portfolio Selection:\", best_solution)\n",
    "\tselected_stocks = map_solution_to_stocks(best_solution, df.columns)\n",
    "\tprint(\"Selected stocks in portfolio:\", selected_stocks)\n"
   ]
  },
  {
   "cell_type": "code",
   "execution_count": 18,
   "metadata": {},
   "outputs": [
    {
     "name": "stdout",
     "output_type": "stream",
     "text": [
      "Classical solution:\n",
      "x = [0. 0. 0. 1. 0. 0.]\n",
      "Objective Value = -0.0001266250687169681\n",
      "\n",
      "Running QAOA...\n"
     ]
    },
    {
     "name": "stderr",
     "output_type": "stream",
     "text": [
      "C:\\Users\\Aditya Dwaraki Rao\\AppData\\Local\\Temp\\ipykernel_32924\\2664369143.py:32: DeprecationWarning: The class ``qiskit.primitives.sampler.Sampler`` is deprecated as of qiskit 1.2. It will be removed no earlier than 3 months after the release date. All implementations of the `BaseSamplerV1` interface have been deprecated in favor of their V2 counterparts. The V2 alternative for the `Sampler` class is `StatevectorSampler`.\n",
      "  qaoa = QAOA(sampler=Sampler(), optimizer=COBYLA(), reps=10)\n"
     ]
    },
    {
     "name": "stdout",
     "output_type": "stream",
     "text": [
      "QAOA solution:\n",
      "x = [0. 0. 0. 1. 0. 0.]\n",
      "Objective Value = -0.0001266250687169681\n",
      "Selected assets: [3]\n",
      "\n",
      "Classical Objective: -0.0001266250687169681\n",
      "QAOA Objective: -0.0001266250687169681\n",
      "⚠️ QAOA did not outperform the classical method. Try tuning parameters.\n"
     ]
    }
   ],
   "source": [
    "from qiskit_optimization import QuadraticProgram\n",
    "from qiskit_optimization.algorithms import MinimumEigenOptimizer\n",
    "from qiskit_optimization.converters import QuadraticProgramToQubo\n",
    "from qiskit.primitives import Sampler\n",
    "from qiskit_algorithms import QAOA, NumPyMinimumEigensolver\n",
    "from qiskit_algorithms.optimizers import COBYLA\n",
    "from qiskit_algorithms.utils import algorithm_globals\n",
    "\n",
    "# Set seed for reproducibility\n",
    "algorithm_globals.random_seed = 1234\n",
    "\n",
    "# Define Quadratic Program\n",
    "qubo = QuadraticProgram()\n",
    "for i in range(assets):\n",
    "    qubo.binary_var(f\"x{i}\")\n",
    "\n",
    "# Convert QUBO matrix into optimization problem\n",
    "linear_terms = {f\"x{i}\": Q[i, i] for i in range(assets)}\n",
    "quadratic_terms = {(f\"x{i}\", f\"x{j}\"): Q[i, j] for i in range(assets) for j in range(i+1, assets)}\n",
    "qubo.minimize(linear=linear_terms, quadratic=quadratic_terms)\n",
    "\n",
    "# Solve classically for comparison\n",
    "classical_solver = MinimumEigenOptimizer(NumPyMinimumEigensolver())\n",
    "classical_result = classical_solver.solve(qubo)\n",
    "\n",
    "print(\"Classical solution:\")\n",
    "print(f\"x = {classical_result.x}\")\n",
    "print(f\"Objective Value = {classical_result.fval}\")\n",
    "\n",
    "# Run QAOA\n",
    "try:\n",
    "    qaoa = QAOA(sampler=Sampler(), optimizer=COBYLA(), reps=10)\n",
    "    qaoa_optimizer = MinimumEigenOptimizer(qaoa)\n",
    "\n",
    "    print(\"\\nRunning QAOA...\")\n",
    "    qaoa_result = qaoa_optimizer.solve(qubo)\n",
    "\n",
    "    print(\"QAOA solution:\")\n",
    "    print(f\"x = {qaoa_result.x}\")\n",
    "    print(f\"Objective Value = {qaoa_result.fval}\")\n",
    "    print(f\"Selected assets: {[i for i, val in enumerate(qaoa_result.x) if val == 1]}\")\n",
    "\n",
    "    # Compare results\n",
    "    print(f\"\\nClassical Objective: {classical_result.fval}\")\n",
    "    print(f\"QAOA Objective: {qaoa_result.fval}\")\n",
    "\n",
    "    if qaoa_result.fval < classical_result.fval:\n",
    "        print(\"✅ QAOA found a better solution!\")\n",
    "    else:\n",
    "        print(\"⚠️ QAOA did not outperform the classical method. Try tuning parameters.\")\n",
    "\n",
    "except Exception as e:\n",
    "    print(f\"\\nQAOA optimization failed: {str(e)}\")\n",
    "    print(\"Falling back to classical solution.\")\n",
    "    print(f\"Selected assets: {[i for i, val in enumerate(classical_result.x) if val == 1]}\")\n"
   ]
  },
  {
   "cell_type": "code",
   "execution_count": 19,
   "metadata": {},
   "outputs": [
    {
     "data": {
      "image/png": "[encoded data removed]",
      "text/plain": [
       "<Figure size 1000x500 with 1 Axes>"
      ]
     },
     "metadata": {},
     "output_type": "display_data"
    }
   ],
   "source": [
    "import matplotlib.pyplot as plt\n",
    "\n",
    "# Plot expected returns\n",
    "plt.figure(figsize=(10, 5))\n",
    "plt.bar(expected_returns.index, expected_returns)\n",
    "plt.xlabel(\"Stocks\")\n",
    "plt.ylabel(\"Expected Return\")\n",
    "plt.title(\"Stock Expected Returns\")\n",
    "plt.xticks(rotation=45)\n",
    "plt.show()\n"
   ]
  },
  {
   "cell_type": "code",
   "execution_count": 20,
   "metadata": {},
   "outputs": [
    {
     "name": "stdout",
     "output_type": "stream",
     "text": [
      "Optimal Portfolio Selection: {0: 0, 1: 0, 2: 0, 3: 1, 4: 0, 5: 0}\n",
      "Optimal Portfolio Energy: -0.00012662506871696788\n"
     ]
    }
   ],
   "source": [
    "import numpy as np\n",
    "from neal import SimulatedAnnealingSampler\n",
    "\n",
    "# Convert QUBO matrix into dictionary format\n",
    "Q_dict = {(i, j): Q[i, j] for i in range(assets) for j in range(i, assets)}\n",
    "\n",
    "# Use Simulated Annealing\n",
    "sampler = SimulatedAnnealingSampler()\n",
    "response = sampler.sample_qubo(Q_dict, num_reads=1000)\n",
    "\n",
    "# Get best solution\n",
    "best_solution = response.first.sample\n",
    "best_energy = response.first.energy\n",
    "\n",
    "print(\"Optimal Portfolio Selection:\", best_solution)\n",
    "print(\"Optimal Portfolio Energy:\", best_energy)\n"
   ]
  },
  {
   "cell_type": "code",
   "execution_count": 21,
   "metadata": {},
   "outputs": [
    {
     "name": "stdout",
     "output_type": "stream",
     "text": [
      "Restricted license - for non-production use only - expires 2026-11-23\n",
      "Gurobi Optimizer version 12.0.1 build v12.0.1rc0 (win64 - Windows 11.0 (22631.2))\n",
      "\n",
      "CPU model: AMD Ryzen 7 5800H with Radeon Graphics, instruction set [SSE2|AVX|AVX2]\n",
      "Thread count: 8 physical cores, 16 logical processors, using up to 16 threads\n",
      "\n",
      "Optimize a model with 0 rows, 6 columns and 0 nonzeros\n",
      "Model fingerprint: 0x905d15a0\n",
      "Model has 21 quadratic objective terms\n",
      "Variable types: 0 continuous, 6 integer (6 binary)\n",
      "Coefficient statistics:\n",
      "  Matrix range     [0e+00, 0e+00]\n",
      "  Objective range  [3e-04, 1e-03]\n",
      "  QObjective range [1e-04, 5e-03]\n",
      "  Bounds range     [1e+00, 1e+00]\n",
      "  RHS range        [0e+00, 0e+00]\n",
      "Found heuristic solution: objective 0.0000000\n",
      "Found heuristic solution: objective -0.0001266\n",
      "Presolve removed 0 rows and 6 columns\n",
      "Presolve time: 0.00s\n",
      "Presolve: All rows and columns removed\n",
      "\n",
      "Explored 0 nodes (0 simplex iterations) in 0.01 seconds (0.00 work units)\n",
      "Thread count was 1 (of 16 available processors)\n",
      "\n",
      "Solution count 2: -0.000126625 0 \n",
      "\n",
      "Optimal solution found (tolerance 1.00e-04)\n",
      "Best objective -1.266250687170e-04, best bound -1.266250687170e-04, gap 0.0000%\n",
      "Optimal Portfolio: {0: 0, 1: 0, 2: 0, 3: 1, 4: 0, 5: 0}\n"
     ]
    }
   ],
   "source": [
    "from gurobipy import Model, GRB\n",
    "\n",
    "model = Model(\"QUBO\")\n",
    "x = model.addVars(assets, vtype=GRB.BINARY, name=\"x\")\n",
    "\n",
    "# Objective Function: Maximize returns and minimize risk\n",
    "model.setObjective(\n",
    "    sum(-returns_array[i] * x[i] for i in range(assets)) +\n",
    "    sum(penalty * cov_array[i, j] * x[i] * x[j] for i in range(assets) for j in range(assets)),\n",
    "    GRB.MINIMIZE\n",
    ")\n",
    "\n",
    "# Solve\n",
    "model.optimize()\n",
    "\n",
    "# Get solution\n",
    "solution = {i: int(x[i].x) for i in range(assets)}\n",
    "print(\"Optimal Portfolio:\", solution)\n"
   ]
  }
 ],
 "metadata": {
  "kernelspec": {
   "display_name": "Python 3",
   "language": "python",
   "name": "python3"
  },
  "language_info": {
   "codemirror_mode": {
    "name": "ipython",
    "version": 3
   },
   "file_extension": ".py",
   "mimetype": "text/x-python",
   "name": "python",
   "nbconvert_exporter": "python",
   "pygments_lexer": "ipython3",
   "version": "3.12.6"
  }
 },
 "nbformat": 4,
 "nbformat_minor": 2
}
